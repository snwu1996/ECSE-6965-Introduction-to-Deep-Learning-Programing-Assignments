{
 "cells": [
  {
   "cell_type": "markdown",
   "metadata": {},
   "source": [
    "# Deep Learning - Programing Assignment 1\n",
    "# Multi-class Logistic Regression\n",
    "By Shu-Nong Wu | RIN: 661371234 | RCS: wus7\n",
    "## 1. Introduction\n",
    "&nbsp;&nbsp;&nbsp;&nbsp;&nbsp;&nbsp;\n",
    "A prerequisite to understanding the neural network is to understand the fundamentals of machine learning. The goal of machine learning is given a input sample x, find the a mapping function f(x, theta) that maps x to the output y. Theta and hyperparameters will be discussed later in this report. \n",
    "\n",
    "$$ x --> f(x,\\theta) --> y $$\n",
    "\n",
    "In order to compute this mapping function there needs for be labeled training data which includes inputs and thier corresponding outputs. The process of finding the mapping function using labeled training data is known as supervised learning. The mapping function is comprised of parameters that takes in a input and generates a predicted a output. The function multiplies the inputs with weights and add a bias. The weights and biases are encoded into the theta matrix. This predicted output is compared the actual output given by the labels. By comparing these two values a loss can be computed based on the loss function L(D,theta).\n",
    "\n",
    "$$ L(D, \\theta) $$\n",
    "\n",
    "Because this loss function represents how poorly the mapping function predicts outputs the goal is to minimize this loss function. For some machine learning problems, there is a closed form solution to minimize the loss by taking the derivative of the loss function and setting it to zero. \n",
    "\n",
    "$$ \\frac{\\partial(L(D,\\theta))}{\\partial(\\theta)} = 0 $$\n",
    "\n",
    "This will return the global minimum. However, not all machine learning problems provide a global minimum along with an closed form solution. In this case a method known as gradient decent can be use to iterativly estimate the be mapping function parameter to minimize the loss. Gradient decent works by taking the change in the loss function with respects to each value in theta also known as the gradient.\n",
    "\n",
    "$$ \\nabla_\\theta L(D,\\theta) $$\n",
    "\n",
    "Because the goal is to minimize the loss, the gradient is multiplied by the something known as a learning rate and subtracted from the theta of the previous iteration.\n",
    "\n",
    "$$ \\theta^{t+1} = \\theta^{t} - \\eta\\frac{\\partial(L(D,\\theta))}{\\partial(\\theta)}\\Big|_{\\theta=\\theta^t} $$\n",
    "\n",
    "The result is that these changes in theta gradually causes the loss function to \"decent\". The learning rate controls how much the gradient changes with each iteration. If the learning rate is too high then it will not converge because the weights and biases will constantly oscillate. If the learning rate is too low then gradient decent take a long time to minimize the loss function.\n",
    "\n",
    "&nbsp;&nbsp;&nbsp;&nbsp;&nbsp;&nbsp;\n",
    "In this assignment two additional topics will be explored, stochastic gradient descent and regularization. Stochastic gradient descent involves taking the whole data set and dividing it up into batches of 2 to 100 data samples. At every iteration a random back is selected and used to compute the gradient and update theta. This method allows the loss function to converge faster and reach its local minimum. \n",
    "\n",
    "&nbsp;&nbsp;&nbsp;&nbsp;&nbsp;&nbsp;\n",
    "One fundamental problem in machine learning is called over fitting. If a model trains too many times on a certain dataset, it might become really good at mapping input to output for that dataset but might not perform well on an outside dataset. If basketball player plays only against aggressive player he or she will become an expert at playing against aggressive players. But when the player plays against someone with a passive play style, the he or she isn't guaranteed to perform well. This is a real life example of over fitting. To combat this, a regularization term is added to the loss function\n",
    "\n",
    "$$ L(D,\\theta)+\\lambda R(\\theta) $$\n",
    "\n",
    "where lambda is a hyperparameter the determines the weighting of the regulization term. Taking the gradient of the new loss function gives the new learning formula.\n",
    "\n",
    "$$ \\theta^{t+1} = \\theta^{t} - \\eta[\\nabla_\\theta L(D,\\theta) + \\lambda\\nabla_\\theta R(\\theta)] $$"
   ]
  },
  {
   "cell_type": "markdown",
   "metadata": {},
   "source": [
    "#### Import Dependencies"
   ]
  },
  {
   "cell_type": "code",
   "execution_count": 3,
   "metadata": {
    "collapsed": true
   },
   "outputs": [],
   "source": [
    "import time\n",
    "import os\n",
    "import numpy as np\n",
    "import tensorflow as tf\n",
    "import cv2\n",
    "import matplotlib.pyplot as plt\n",
    "import pickle"
   ]
  },
  {
   "cell_type": "markdown",
   "metadata": {},
   "source": [
    "#### Define Constants"
   ]
  },
  {
   "cell_type": "code",
   "execution_count": 4,
   "metadata": {
    "collapsed": true
   },
   "outputs": [],
   "source": [
    "NUM_TRAINING_SAMPLES = 25112\n",
    "NUM_TESTING_SAMPLES = 4982\n",
    "NUM_CLASSES = 5\n",
    "width, height = 28, 28"
   ]
  },
  {
   "cell_type": "markdown",
   "metadata": {},
   "source": [
    "#### Define Helper Classes"
   ]
  },
  {
   "cell_type": "code",
   "execution_count": 5,
   "metadata": {
    "collapsed": true
   },
   "outputs": [],
   "source": [
    "class Data:\n",
    "    \"\"\"\n",
    "    The mnist dataset built into Tensorflow allows you to conveniently call the\n",
    "    next_batch() function to get the next batch of data.\n",
    "    This is just a reimplementation of that function.\n",
    "    \"\"\"\n",
    "    def __init__(self, X_data, Y_data):\n",
    "        self.X_data = X_data\n",
    "        self.Y_data = Y_data\n",
    "        self.batch_num = 0\n",
    "        \n",
    "    def next_batch(self, batch_size):\n",
    "        \"\"\"\n",
    "        Used for gradient descent when the input data set is too large.\n",
    "        You can split it up into batches of BATCH_SIZE and iterate through the batches.\n",
    "        \"\"\"\n",
    "        X_batch = self.X_data[self.batch_num*batch_size:(self.batch_num+1)*batch_size]\n",
    "        Y_batch = self.Y_data[self.batch_num*batch_size:(self.batch_num+1)*batch_size]\n",
    "        Y_batch = [one_hot(int(i)) for i in Y_batch]\n",
    "        self.batch_num += 1\n",
    "        return np.array(X_batch, dtype=np.float32).T.reshape(width*height, batch_size), \\\n",
    "               np.array(Y_batch, dtype=np.float32).T.reshape(NUM_CLASSES, batch_size)\n",
    "    \n",
    "    def random_batch(self, batch_size):\n",
    "        \"\"\"\n",
    "        Used for stochastic gradient descent.\n",
    "        Cuts the dataset into batches of BATCH_SIZE and randomly selects one of those batches\n",
    "        \"\"\"\n",
    "        rand_batch_num = np.random.randint((len(self.X_data) / batch_size))\n",
    "        X_batch = self.X_data[rand_batch_num*batch_size:(rand_batch_num+1)*batch_size]\n",
    "        Y_batch = self.Y_data[rand_batch_num*batch_size:(rand_batch_num+1)*batch_size]\n",
    "        Y_batch = [one_hot(int(i)) for i in Y_batch]\n",
    "        return np.array(X_batch, dtype=np.float32).T.reshape(width*height, batch_size), \\\n",
    "               np.array(Y_batch, dtype=np.float32).T.reshape(NUM_CLASSES, batch_size)\n",
    "    \n",
    "    def reset(self):\n",
    "        self.batch_num = 0"
   ]
  },
  {
   "cell_type": "markdown",
   "metadata": {},
   "source": [
    "#### Define Helper Functions"
   ]
  },
  {
   "cell_type": "code",
   "execution_count": 6,
   "metadata": {
    "collapsed": true
   },
   "outputs": [],
   "source": [
    "def load_images():\n",
    "    training_imgs = ['train_data/{:05d}.jpg'.format(i) for i in range(1, NUM_TRAINING_SAMPLES+1)]\n",
    "    training_imgs = [cv2.imread(img, cv2.IMREAD_GRAYSCALE)/255 for img in training_imgs]\n",
    "    width, height = training_imgs[0].shape\n",
    "    training_imgs = [img.reshape(width*height, 1) for img in training_imgs]\n",
    "\n",
    "    testing_imgs = ['test_data/{:04d}.jpg'.format(i) for i in range(1, NUM_TESTING_SAMPLES+1)]\n",
    "    testing_imgs = [cv2.imread(img, cv2.IMREAD_GRAYSCALE)/255 for img in testing_imgs]\n",
    "    testing_imgs = [img.reshape(width*height, 1) for img in testing_imgs]\n",
    "    \n",
    "    return training_imgs, testing_imgs\n",
    "\n",
    "def load_labels():\n",
    "    with open('labels/train_label.txt', 'r') as labels:\n",
    "        training_labels = labels.read().split('\\n')[0:-1]\n",
    "        training_labels = [int(training_label) for training_label in training_labels]\n",
    "        \n",
    "    with open('labels/test_label.txt', 'r') as labels:\n",
    "        testing_labels = labels.read().split('\\n')[0:-1]\n",
    "        testing_labels = [int(testing_label) for testing_label in testing_labels]\n",
    "        \n",
    "    return training_labels, testing_labels\n",
    "\n",
    "def one_hot(number):\n",
    "    \"\"\"\n",
    "    Converts a number into its one_hot representation\n",
    "    Eg: 4 -> [0,0,0,1,0]\n",
    "        2 -> [0,1,0,0,0]\n",
    "    This is done because the output of our model is represented as nodes.\n",
    "    The activation of a node corresponds to some output.\n",
    "    \"\"\"\n",
    "    ones = np.ones((1,1),dtype=np.float32)\n",
    "    zeros = np.zeros((NUM_CLASSES-1,1), dtype=np.float32)\n",
    "    return np.roll(np.concatenate([ones, zeros]),number-1)\n",
    "\n",
    "def softmax(logits, axis=0):\n",
    "    \"\"\"\n",
    "    Typically used in the output layer of a network.\n",
    "    Used for multinomial logistic regression.\n",
    "    Abbreviated as sigma_m.\n",
    "    \"\"\"\n",
    "    return tf.exp(logits) / tf.reduce_sum(tf.exp(logits), axis)\n",
    "\n",
    "def save_weights(theta):\n",
    "    file = open('multiclass_parameters.txt', 'wb')\n",
    "    pickle.dump(theta, file)\n",
    "    file.close()\n",
    "\n",
    "def plot_weight(w):\n",
    "    img = w.reshape(28,28)\n",
    "    plt.imshow(img)\n",
    "    plt.colorbar()\n",
    "    plt.show()\n",
    "    "
   ]
  },
  {
   "cell_type": "markdown",
   "metadata": {},
   "source": [
    "####  Load Data"
   ]
  },
  {
   "cell_type": "code",
   "execution_count": 7,
   "metadata": {
    "collapsed": true
   },
   "outputs": [],
   "source": [
    "training_imgs, testing_imgs = load_images()\n",
    "training_labels, testing_labels = load_labels()\n",
    "training_data = Data(training_imgs, training_labels)\n",
    "testing_data = Data(testing_imgs, testing_labels)"
   ]
  },
  {
   "cell_type": "markdown",
   "metadata": {},
   "source": [
    "## 2. Theory\n",
    "&nbsp;&nbsp;&nbsp;&nbsp;&nbsp;&nbsp;\n",
    "The important steps one must take to understand and perform learning with multiclass logistic regression is to set hyper parameters, initialize weights and biases, define the cost function, and compute the gradient and update the weights and biases.\n",
    "### 2.1 Hyper Parameters\n",
    "&nbsp;&nbsp;&nbsp;&nbsp;&nbsp;&nbsp;\n",
    "Selecting hyper parameters affect the performance of a machine learning model. These hyper parameters include learning rate, lambda, epochs, batch size, and loss threshold. On a high level the learning rate affect the speed at which the loss functin converges and if it converges. Lambda affects how much the regulization term is weighted. Number of epochs affects the number of times the gradient is computed and subtracted to the weights and bias. Batch size is used for stochastic gradient descent and is the size of the dataset that is being used to calculate the gradient for each epoch. Finally the loss threshold stops the model from learning when the loss function goes below the threshold."
   ]
  },
  {
   "cell_type": "code",
   "execution_count": 9,
   "metadata": {
    "collapsed": true
   },
   "outputs": [],
   "source": [
    "# Hyperparameters\n",
    "LEARNING_RATE = .01\n",
    "LAMBDA = .0001\n",
    "NUM_EPOCHS = 10000\n",
    "BATCH_SIZE = 100\n",
    "LOSS_THRESH = .0000"
   ]
  },
  {
   "cell_type": "markdown",
   "metadata": {},
   "source": [
    "### 2.2 Initalize Weights and Biases\n",
    "&nbsp;&nbsp;&nbsp;&nbsp;&nbsp;&nbsp;\n",
    "Before the model can be ran and optimized, the weights (w) and biases (w_0) must be initialized and put into the theta matrix. The theta matrix is defined as:\n",
    "\n",
    "$$\\theta = \\left[\\begin{array}{cccc} w \\\\ w_{0}\\end{array} \\right] $$\n",
    "\n",
    "The initialization of weights and biases determines how soon the model will converge. Initializing the weights and biases such that the lost function starts off as close to the minimum as possible will mean that the number of epoch needed to reach that minimum is small. Alternatively the learning rate can be reduced in order to achieve a lower loss and higher testing accuracy in the same amount of training time."
   ]
  },
  {
   "cell_type": "code",
   "execution_count": 10,
   "metadata": {},
   "outputs": [],
   "source": [
    "X = tf.placeholder(dtype=tf.float32, shape=[width*height+1, None], name='images')\n",
    "Y = tf.placeholder(dtype=tf.float32, shape=[NUM_CLASSES, None], name='labels')\n",
    "w = tf.ones(shape=[width*height, NUM_CLASSES], dtype=tf.float32)*.1\n",
    "w_0 = tf.zeros([1, NUM_CLASSES], dtype=tf.float32)\n",
    "theta = tf.Variable(tf.concat([w, w_0], axis=0), dtype=tf.float32, name='theta')"
   ]
  },
  {
   "cell_type": "markdown",
   "metadata": {},
   "source": [
    "### 2.3 Define Cost Function\n",
    "&nbsp;&nbsp;&nbsp;&nbsp;&nbsp;&nbsp;\n",
    "When an input is being fed into the model it will generate a output. The cost function can intuitively be understood as given a predicted output how well does it match the real output. If the prediction is wrong when it is confident that its right the model will be punished with a high loss value. The loss function implemented for this project is know as negative log likelyhood. The loss or penalty for each sample is defined as\n",
    "\n",
    "$$ L(D, \\theta) = -\\frac{1}{M} {\\sum\\limits_{m=1}^{M}\\log p(Y[m]|X[m],\\theta) = L(D, \\theta) = - \\frac{1}{M} \\sum\\limits_{m=1}^{M} \\sum\\limits_{k^{'}=1}^{K} Y[m][k^{'}] \\log\\sigma_m(\\theta_k^t, X[m])} $$\n",
    "\n",
    "where X is the input data and Y is the output data which both contains M samples which is the batch size in this case for stochastic gradient descent. The loss function can be used to check how close the model is to convergence.\n",
    "\n",
    "&nbsp;&nbsp;&nbsp;&nbsp;&nbsp;&nbsp;\n",
    "Finally a regularization term is added in order to prevent overfitting. The regularization term being used in this assignment is L2 regularization and is defined as \n",
    "\n",
    "$$ R(\\theta) = \\theta^t\\theta$$\n",
    "\n",
    "and is added to the loss function\n",
    "\n",
    "$$ L(D, \\theta) = - \\frac{1}{M} \\sum\\limits_{m=1}^{M} \\sum\\limits_{k^{'}=1}^{K}l[X[m],Y[m],\\theta)+\\lambda R(\\theta)$$"
   ]
  },
  {
   "cell_type": "code",
   "execution_count": 11,
   "metadata": {},
   "outputs": [],
   "source": [
    "logits = tf.matmul(tf.transpose(theta), X)\n",
    "L2_reg = tf.reduce_sum(LAMBDA * tf.matmul(tf.transpose(theta), theta))\n",
    "loss = -tf.reduce_sum(Y * tf.log(softmax(logits)))\n",
    "loss = loss + L2_reg\n",
    "loss = loss / BATCH_SIZE"
   ]
  },
  {
   "cell_type": "markdown",
   "metadata": {},
   "source": [
    "### 2.4 Compute the Gradient and Update Theta\n",
    "&nbsp;&nbsp;&nbsp;&nbsp;&nbsp;&nbsp;\n",
    "In order to optimize the model the gradient of the loss function must be taken with respects to theta. What this gradient represents is how much should the weights and biases be change such that a small step can be taken to find the most accurate model. Simular to before the regularization term is added in order to prevent overfitting. The gradient along with the regularization is applied to the new weights for each class k and batch size M\n",
    "\n",
    "$$ \\nabla_{\\theta,k} L(D,\\theta) = -\\frac{1}{M} \\sum\\limits_{m=1}^{M} X[m][y[m][k]-\\sigma_m(\\theta_k^t X[m])$$\n",
    "\n",
    "regularization is defined as\n",
    "\n",
    "$$ \\nabla_{\\theta,k} R(\\theta_k) = 2 \\theta$$\n",
    "\n",
    "put it all together and the new weights can be calculated\n",
    "\n",
    "$$ \\theta_k^{t+1} = \\theta_k^t - \\eta[\\nabla_{\\theta,k} L(D,\\theta)+\\lambda\\nabla_{\\theta,k} R(\\theta_k)] $$\n",
    "\n",
    "The process of updating the weights with stochastic gradient descent is done over and over again with batch size M until convergence is reached."
   ]
  },
  {
   "cell_type": "code",
   "execution_count": 12,
   "metadata": {
    "collapsed": true
   },
   "outputs": [],
   "source": [
    "L2_reg_gradient = 2 * LAMBDA * theta\n",
    "delta_theta = tf.matmul(X, tf.transpose(Y - softmax(logits)))\n",
    "delta_theta = delta_theta + LAMBDA * L2_reg_gradient\n",
    "delta_theta = -LEARNING_RATE * delta_theta\n",
    "delta_theta = delta_theta / BATCH_SIZE\n",
    "update_theta = tf.assign_sub(theta, delta_theta)"
   ]
  },
  {
   "cell_type": "markdown",
   "metadata": {},
   "source": [
    "## 3. Results\n",
    "Using the following hyper parameters <br>\n",
    "<br>\n",
    "LEARNING_RATE = .01 <br>\n",
    "LAMBDA = .01 <br>\n",
    "NUM_EPOCHS = 10000 <br>\n",
    "BATCH_SIZE = 100 <br>\n",
    "LOSS_THRESH = .000001 <br>\n",
    "<br>\n",
    "an accuracy of 95 percent was obtained"
   ]
  },
  {
   "cell_type": "code",
   "execution_count": 14,
   "metadata": {},
   "outputs": [
    {
     "name": "stdout",
     "output_type": "stream",
     "text": [
      "Epoch: 100        | Loss: 0.7218549251556396   | Test Accuracy 0.889000415802002   \n",
      "Epoch: 200        | Loss: 0.6568701863288879   | Test Accuracy 0.9000401496887207  \n",
      "Epoch: 300        | Loss: 0.41200920939445496  | Test Accuracy 0.9167001247406006  \n",
      "Epoch: 400        | Loss: 0.4661306142807007   | Test Accuracy 0.9233239889144897  \n",
      "Epoch: 500        | Loss: 0.44653213024139404  | Test Accuracy 0.9259333610534668  \n",
      "Epoch: 600        | Loss: 0.37583762407302856  | Test Accuracy 0.9293456673622131  \n",
      "Epoch: 700        | Loss: 0.35895249247550964  | Test Accuracy 0.9317542910575867  \n",
      "Epoch: 800        | Loss: 0.37967026233673096  | Test Accuracy 0.9327579140663147  \n",
      "Epoch: 900        | Loss: 0.2881816029548645   | Test Accuracy 0.9327579140663147  \n",
      "Epoch: 1000       | Loss: 0.1972029060125351   | Test Accuracy 0.933159351348877   \n",
      "Epoch: 1100       | Loss: 0.35727325081825256  | Test Accuracy 0.9329586625099182  \n",
      "Epoch: 1200       | Loss: 0.30154046416282654  | Test Accuracy 0.934162974357605   \n",
      "Epoch: 1300       | Loss: 0.202207550406456    | Test Accuracy 0.9347651600837708  \n",
      "Epoch: 1400       | Loss: 0.26226478815078735  | Test Accuracy 0.9369730949401855  \n",
      "Epoch: 1500       | Loss: 0.2512228488922119   | Test Accuracy 0.9373745322227478  \n",
      "Epoch: 1600       | Loss: 0.17886073887348175  | Test Accuracy 0.9381774663925171  \n",
      "Epoch: 1700       | Loss: 0.17840050160884857  | Test Accuracy 0.9379767179489136  \n",
      "Epoch: 1800       | Loss: 0.26784491539001465  | Test Accuracy 0.9381774663925171  \n",
      "Epoch: 1900       | Loss: 0.34199759364128113  | Test Accuracy 0.9395825266838074  \n",
      "Epoch: 2000       | Loss: 0.37292519211769104  | Test Accuracy 0.9405860900878906  \n",
      "Epoch: 2100       | Loss: 0.1769379824399948   | Test Accuracy 0.9407868385314941  \n",
      "Epoch: 2200       | Loss: 0.20025673508644104  | Test Accuracy 0.9393817782402039  \n",
      "Epoch: 2300       | Loss: 0.2539573013782501   | Test Accuracy 0.9411882758140564  \n",
      "Epoch: 2400       | Loss: 0.28084301948547363  | Test Accuracy 0.9415897130966187  \n",
      "Epoch: 2500       | Loss: 0.17696313560009003  | Test Accuracy 0.9405860900878906  \n",
      "Epoch: 2600       | Loss: 0.1409292370080948   | Test Accuracy 0.9407868385314941  \n",
      "Epoch: 2700       | Loss: 0.24339862167835236  | Test Accuracy 0.9415897130966187  \n",
      "Epoch: 2800       | Loss: 0.1568046510219574   | Test Accuracy 0.9423925876617432  \n",
      "Epoch: 2900       | Loss: 0.17596492171287537  | Test Accuracy 0.9413890242576599  \n",
      "Epoch: 3000       | Loss: 0.19208255410194397  | Test Accuracy 0.9415897130966187  \n",
      "Epoch: 3100       | Loss: 0.1579390913248062   | Test Accuracy 0.9421918988227844  \n",
      "Epoch: 3200       | Loss: 0.17809070646762848  | Test Accuracy 0.9413890242576599  \n",
      "Epoch: 3300       | Loss: 0.13178230822086334  | Test Accuracy 0.9421918988227844  \n",
      "Epoch: 3400       | Loss: 0.2793179452419281   | Test Accuracy 0.9423925876617432  \n",
      "Epoch: 3500       | Loss: 0.19624705612659454  | Test Accuracy 0.9419911503791809  \n",
      "Epoch: 3600       | Loss: 0.17325864732265472  | Test Accuracy 0.9429947733879089  \n",
      "Epoch: 3700       | Loss: 0.14879819750785828  | Test Accuracy 0.9429947733879089  \n",
      "Epoch: 3800       | Loss: 0.12148847430944443  | Test Accuracy 0.9429947733879089  \n",
      "Epoch: 3900       | Loss: 0.14002035558223724  | Test Accuracy 0.9427940845489502  \n",
      "Epoch: 4000       | Loss: 0.1957017481327057   | Test Accuracy 0.9425933361053467  \n",
      "Epoch: 4100       | Loss: 0.19793032109737396  | Test Accuracy 0.9429947733879089  \n",
      "Epoch: 4200       | Loss: 0.24970455467700958  | Test Accuracy 0.9429947733879089  \n",
      "Epoch: 4300       | Loss: 0.2273741513490677   | Test Accuracy 0.9435969591140747  \n",
      "Epoch: 4400       | Loss: 0.1287943422794342   | Test Accuracy 0.9443998336791992  \n",
      "Epoch: 4500       | Loss: 0.2168637216091156   | Test Accuracy 0.943998396396637   \n",
      "Epoch: 4600       | Loss: 0.25717589259147644  | Test Accuracy 0.9431955218315125  \n",
      "Epoch: 4700       | Loss: 0.05273708328604698  | Test Accuracy 0.9435969591140747  \n",
      "Epoch: 4800       | Loss: 0.13801510632038116  | Test Accuracy 0.9441991448402405  \n",
      "Epoch: 4900       | Loss: 0.2515713572502136   | Test Accuracy 0.9446005821228027  \n",
      "Epoch: 5000       | Loss: 0.15164604783058167  | Test Accuracy 0.943998396396637   \n",
      "Epoch: 5100       | Loss: 0.1622253805398941   | Test Accuracy 0.9443998336791992  \n",
      "Epoch: 5200       | Loss: 0.26710498332977295  | Test Accuracy 0.945002019405365   \n",
      "Epoch: 5300       | Loss: 0.3258683681488037   | Test Accuracy 0.9446005821228027  \n",
      "Epoch: 5400       | Loss: 0.13886936008930206  | Test Accuracy 0.9448012709617615  \n",
      "Epoch: 5500       | Loss: 0.11062663793563843  | Test Accuracy 0.9452027082443237  \n",
      "Epoch: 5600       | Loss: 0.13267497718334198  | Test Accuracy 0.945002019405365   \n",
      "Epoch: 5700       | Loss: 0.14685365557670593  | Test Accuracy 0.945002019405365   \n",
      "Epoch: 5800       | Loss: 0.11044390499591827  | Test Accuracy 0.9446005821228027  \n",
      "Epoch: 5900       | Loss: 0.2153601497411728   | Test Accuracy 0.9441991448402405  \n",
      "Epoch: 6000       | Loss: 0.21056078374385834  | Test Accuracy 0.9443998336791992  \n",
      "Epoch: 6100       | Loss: 0.15415053069591522  | Test Accuracy 0.9446005821228027  \n",
      "Epoch: 6200       | Loss: 0.21039357781410217  | Test Accuracy 0.9443998336791992  \n",
      "Epoch: 6300       | Loss: 0.11625174432992935  | Test Accuracy 0.9452027082443237  \n",
      "Epoch: 6400       | Loss: 0.14843450486660004  | Test Accuracy 0.9454034566879272  \n",
      "Epoch: 6500       | Loss: 0.2453022003173828   | Test Accuracy 0.946005642414093   \n",
      "Epoch: 6600       | Loss: 0.14933635294437408  | Test Accuracy 0.945604145526886   \n",
      "Epoch: 6700       | Loss: 0.12081266194581985  | Test Accuracy 0.9452027082443237  \n",
      "Epoch: 6800       | Loss: 0.1214023306965828   | Test Accuracy 0.9452027082443237  \n",
      "Epoch: 6900       | Loss: 0.13032156229019165  | Test Accuracy 0.945604145526886   \n",
      "Epoch: 7000       | Loss: 0.12377126514911652  | Test Accuracy 0.9452027082443237  \n",
      "Epoch: 7100       | Loss: 0.10757680982351303  | Test Accuracy 0.945604145526886   \n",
      "Epoch: 7200       | Loss: 0.11684851348400116  | Test Accuracy 0.945604145526886   \n",
      "Epoch: 7300       | Loss: 0.19922707974910736  | Test Accuracy 0.9458048939704895  \n",
      "Epoch: 7400       | Loss: 0.2076299637556076   | Test Accuracy 0.945604145526886   \n",
      "Epoch: 7500       | Loss: 0.14005720615386963  | Test Accuracy 0.9464070796966553  \n",
      "Epoch: 7600       | Loss: 0.17596179246902466  | Test Accuracy 0.9468085169792175  \n",
      "Epoch: 7700       | Loss: 0.18446733057498932  | Test Accuracy 0.9462063312530518  \n",
      "Epoch: 7800       | Loss: 0.22008854150772095  | Test Accuracy 0.946607768535614   \n",
      "Epoch: 7900       | Loss: 0.10532242804765701  | Test Accuracy 0.946607768535614   \n",
      "Epoch: 8000       | Loss: 0.20444591343402863  | Test Accuracy 0.9462063312530518  \n",
      "Epoch: 8100       | Loss: 0.12118791788816452  | Test Accuracy 0.946005642414093   \n",
      "Epoch: 8200       | Loss: 0.275767982006073    | Test Accuracy 0.9454034566879272  \n",
      "Epoch: 8300       | Loss: 0.30322912335395813  | Test Accuracy 0.9462063312530518  \n",
      "Epoch: 8400       | Loss: 0.18240691721439362  | Test Accuracy 0.9458048939704895  \n",
      "Epoch: 8500       | Loss: 0.07520133256912231  | Test Accuracy 0.9458048939704895  \n",
      "Epoch: 8600       | Loss: 0.1455714851617813   | Test Accuracy 0.9458048939704895  \n",
      "Epoch: 8700       | Loss: 0.21378490328788757  | Test Accuracy 0.9464070796966553  \n",
      "Epoch: 8800       | Loss: 0.1310119479894638   | Test Accuracy 0.9464070796966553  \n",
      "Epoch: 8900       | Loss: 0.12565189599990845  | Test Accuracy 0.9468085169792175  \n",
      "Epoch: 9000       | Loss: 0.11897294968366623  | Test Accuracy 0.947611391544342   \n",
      "Epoch: 9100       | Loss: 0.2023821324110031   | Test Accuracy 0.9468085169792175  \n",
      "Epoch: 9200       | Loss: 0.14710350334644318  | Test Accuracy 0.9470092058181763  \n",
      "Epoch: 9300       | Loss: 0.18778324127197266  | Test Accuracy 0.945604145526886   \n",
      "Epoch: 9400       | Loss: 0.17568433284759521  | Test Accuracy 0.9468085169792175  \n",
      "Epoch: 9500       | Loss: 0.11295810341835022  | Test Accuracy 0.9468085169792175  \n",
      "Epoch: 9600       | Loss: 0.2552492022514343   | Test Accuracy 0.9472099542617798  \n",
      "Epoch: 9700       | Loss: 0.14450550079345703  | Test Accuracy 0.9478121399879456  \n",
      "Epoch: 9800       | Loss: 0.31150081753730774  | Test Accuracy 0.9464070796966553  \n"
     ]
    },
    {
     "name": "stdout",
     "output_type": "stream",
     "text": [
      "Epoch: 9900       | Loss: 0.3358621597290039   | Test Accuracy 0.9464070796966553  \n",
      "Epoch: 10000      | Loss: 0.30505064129829407  | Test Accuracy 0.9464070796966553  \n"
     ]
    }
   ],
   "source": [
    "init = tf.global_variables_initializer()\n",
    "with tf.Session() as sess:\n",
    "        sess.run(init)\n",
    "        \n",
    "        #Train Model - Stochastic Gradient Decent\n",
    "        loss_hist = []\n",
    "        accuracy_hist_train = []\n",
    "        accuracy_hist_test = []\n",
    "        end_training = False\n",
    "        for i in range(NUM_EPOCHS):    \n",
    "            X_batch, Y_batch = training_data.random_batch(BATCH_SIZE)\n",
    "            X_batch = np.concatenate([X_batch, np.ones((1,BATCH_SIZE), dtype=np.float32)])\n",
    "            loss_value, _ = sess.run([loss, update_theta], feed_dict={X: X_batch, Y: Y_batch})\n",
    "            loss_hist.append(loss_value) \n",
    "            \n",
    "            # Check for conversion\n",
    "            if len(loss_hist) > 0:\n",
    "                loss_diff = (loss_value - loss_hist[-1]) / loss_hist[-1] * 100.\n",
    "                if abs(loss_diff) < LOSS_THRESH:\n",
    "                    end_training = True\n",
    "                    break\n",
    "            if end_training:\n",
    "                break\n",
    "            \n",
    "            # Record Accuracies\n",
    "            if not (i+1)%100:\n",
    "                #Test Model - Train set\n",
    "                Y_hat_train = sess.run(softmax(logits), feed_dict={X: X_batch, Y: Y_batch})\n",
    "                correct_preds_train = tf.equal(tf.argmax(Y_hat_train, axis=0), tf.argmax(Y_batch, axis=0))\n",
    "                train_accuracy = tf.reduce_mean(tf.cast(correct_preds_train, tf.float32))\n",
    "                accuracy_train = sess.run(train_accuracy)\n",
    "                accuracy_hist_train.append(accuracy_train)\n",
    "                \n",
    "                # Test Model - Test Set\n",
    "                testing_data.reset()\n",
    "                total_correct_preds = 0\n",
    "                X_batch, Y_batch = testing_data.next_batch(NUM_TESTING_SAMPLES)\n",
    "                X_batch = np.concatenate([X_batch, np.ones((1,NUM_TESTING_SAMPLES), dtype=np.float32)])\n",
    "                Y_hat_test = sess.run(softmax(logits), feed_dict={X: X_batch, Y:Y_batch})\n",
    "                correct_preds_test = tf.equal(tf.argmax(Y_hat_test, 0), tf.argmax(Y_batch, 0))\n",
    "                accuracy_test = sess.run(tf.reduce_mean(tf.cast(correct_preds_test, dtype=tf.float32)))\n",
    "                accuracy_hist_test.append(accuracy_test)\n",
    "                \n",
    "                print('Epoch: {:<10} | Loss: {:<20} | Test Accuracy {:<20}'.format(i+1, loss_value, accuracy_test))\n",
    "        save_theta = sess.run(theta)\n",
    "        save_weights(save_theta)"
   ]
  },
  {
   "cell_type": "markdown",
   "metadata": {},
   "source": [
    "### 3.1 Plot Weights\n",
    "Plotting the final weights for 1, 2, 3, 4, and 5 yields."
   ]
  },
  {
   "cell_type": "code",
   "execution_count": 29,
   "metadata": {},
   "outputs": [
    {
     "data": {
      "image/png": "[encoded data removed]",
      "text/plain": [
       "<matplotlib.figure.Figure at 0xaff2d779e8>"
      ]
     },
     "metadata": {},
     "output_type": "display_data"
    },
    {
     "data": {
      "image/png": "[encoded data removed]",
      "text/plain": [
       "<matplotlib.figure.Figure at 0xaff2d6aac8>"
      ]
     },
     "metadata": {},
     "output_type": "display_data"
    },
    {
     "data": {
      "image/png": "[encoded data removed]",
      "text/plain": [
       "<matplotlib.figure.Figure at 0xaff3152c50>"
      ]
     },
     "metadata": {},
     "output_type": "display_data"
    },
    {
     "data": {
      "image/png": "[encoded data removed]",
      "text/plain": [
       "<matplotlib.figure.Figure at 0xaff3160128>"
      ]
     },
     "metadata": {},
     "output_type": "display_data"
    },
    {
     "data": {
      "image/png": "[encoded data removed]",
      "text/plain": [
       "<matplotlib.figure.Figure at 0xaff3222cc0>"
      ]
     },
     "metadata": {},
     "output_type": "display_data"
    }
   ],
   "source": [
    "for i in range(5):\n",
    "    plt.title('Digit {0}'.format(i+1))\n",
    "    plot_weight(save_theta[:784,i])"
   ]
  },
  {
   "cell_type": "markdown",
   "metadata": {
    "collapsed": true
   },
   "source": [
    "### 3.2 Plot Accuracy Over Time"
   ]
  },
  {
   "cell_type": "code",
   "execution_count": 28,
   "metadata": {},
   "outputs": [
    {
     "data": {
      "image/png": "[encoded data removed]",
      "text/plain": [
       "<matplotlib.figure.Figure at 0xaff2e62f60>"
      ]
     },
     "metadata": {},
     "output_type": "display_data"
    }
   ],
   "source": [
    "plt.plot(np.linspace(0, NUM_EPOCHS, int(NUM_EPOCHS/BATCH_SIZE)),\n",
    "         accuracy_hist_train, 'b-', linewidth = 1.0)\n",
    "plt.plot(np.linspace(0, NUM_EPOCHS, int(NUM_EPOCHS/BATCH_SIZE)),\n",
    "         accuracy_hist_test,'r-', linewidth = 1.0)\n",
    "plt.title('Training and Testing Error Over 10000 Iterations | Red = Training Set, Blue = Testing Set')\n",
    "plt.ylabel('Accuracy')\n",
    "plt.xlabel('Epoch')\n",
    "plt.show()"
   ]
  },
  {
   "cell_type": "markdown",
   "metadata": {},
   "source": [
    "### 3.3 Plot Accuracy Per Digit \n",
    "Takeing my weights and testing on my friends plot accuracy per digit code the accuracies for each digits are: <br>\n",
    "Accuracy for Digit 1: 0.9840225563909775 <br>\n",
    "Accuracy for Digit 2: 0.9424242424242424 <br>\n",
    "Accuracy for Digit 3: 0.9320388349514563 <br>\n",
    "Accuracy for Digit 4: 0.9735503560528993 <br>\n",
    "Accuracy for Digit 5: 0.9136612021857924 <br>"
   ]
  }
 ],
 "metadata": {
  "kernelspec": {
   "display_name": "Python 3",
   "language": "python",
   "name": "python3"
  },
  "language_info": {
   "codemirror_mode": {
    "name": "ipython",
    "version": 3
   },
   "file_extension": ".py",
   "mimetype": "text/x-python",
   "name": "python",
   "nbconvert_exporter": "python",
   "pygments_lexer": "ipython3",
   "version": "3.6.2"
  }
 },
 "nbformat": 4,
 "nbformat_minor": 2
}
